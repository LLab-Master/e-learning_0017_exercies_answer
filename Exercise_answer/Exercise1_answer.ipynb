{
 "cells": [
  {
   "cell_type": "markdown",
   "metadata": {},
   "source": [
    "# 演習課題 1\n",
    "\n",
    "\n",
    "テキスト本編で扱ったMNIST(手書きの数字データ）の分類問題で  \n",
    "テキストサンプルを改良し、ノーマルなニューラルネットワークのモデル  \n",
    "として、正答率98％以上となるモデルを考えて実装してください。\n",
    "\n",
    "### ヒント\n",
    "\n",
    "- 層を闇雲に増やせば良いという訳ではない\n",
    "- 入力データも必要なら前処理を行うこを考えてみる\n",
    "- 過学習に注意せよ\n",
    "- 活性化関数を正しく使い分ける"
   ]
  },
  {
   "cell_type": "markdown",
   "metadata": {},
   "source": [
    "### データ準備"
   ]
  },
  {
   "cell_type": "code",
   "execution_count": 1,
   "metadata": {},
   "outputs": [],
   "source": [
    "import numpy as np\n",
    "import matplotlib.pyplot as plt\n",
    "from tensorflow.keras.datasets import mnist\n",
    "from tensorflow.keras.utils import to_categorical\n",
    "\n",
    "(X_train,y_train), (X_test, y_test) = mnist.load_data()\n",
    "\n",
    "\n",
    "Y_train = to_categorical(y_train,10)\n",
    "Y_test = to_categorical(y_test,10)\n",
    "\n",
    "X_train = X_train.reshape(-1,784)/255\n",
    "X_test = X_test.reshape(-1,784)/255\n"
   ]
  },
  {
   "cell_type": "markdown",
   "metadata": {},
   "source": [
    "## モデル作成"
   ]
  },
  {
   "cell_type": "code",
   "execution_count": 2,
   "metadata": {},
   "outputs": [],
   "source": [
    "from tensorflow.keras.models import Sequential\n",
    "from tensorflow.keras.layers import Dense,Dropout\n",
    "\n",
    "model = Sequential()\n",
    "\n",
    "\n",
    "model.add(Dense(units=512,input_shape=(784,),activation='relu'))\n",
    "model.add(Dropout(0.2)) #過学習防止\n",
    "model.add(Dense(units=512,input_shape=(512,),activation='relu',))\n",
    "model.add(Dropout(0.2)) #過学習防止\n",
    "model.add(Dense(units=10, input_shape=(512,),activation='softmax'))\n",
    "\n"
   ]
  },
  {
   "cell_type": "markdown",
   "metadata": {},
   "source": [
    "### 学習"
   ]
  },
  {
   "cell_type": "code",
   "execution_count": 3,
   "metadata": {},
   "outputs": [
    {
     "name": "stdout",
     "output_type": "stream",
     "text": [
      "Epoch 1/50\n",
      "469/469 [==============================] - 3s 5ms/step - loss: 0.4406 - accuracy: 0.8678\n",
      "Epoch 2/50\n",
      "469/469 [==============================] - 2s 5ms/step - loss: 0.1063 - accuracy: 0.9675\n",
      "Epoch 3/50\n",
      "469/469 [==============================] - 3s 5ms/step - loss: 0.0679 - accuracy: 0.9795\n",
      "Epoch 4/50\n",
      "469/469 [==============================] - 3s 5ms/step - loss: 0.0529 - accuracy: 0.9829\n",
      "Epoch 5/50\n",
      "469/469 [==============================] - 3s 5ms/step - loss: 0.0430 - accuracy: 0.9859\n",
      "Epoch 6/50\n",
      "469/469 [==============================] - 3s 5ms/step - loss: 0.0384 - accuracy: 0.9872\n",
      "Epoch 7/50\n",
      "469/469 [==============================] - 3s 7ms/step - loss: 0.0364 - accuracy: 0.9886\n",
      "Epoch 8/50\n",
      "469/469 [==============================] - 3s 5ms/step - loss: 0.0271 - accuracy: 0.9903\n",
      "Epoch 9/50\n",
      "469/469 [==============================] - 3s 6ms/step - loss: 0.0240 - accuracy: 0.9915\n",
      "Epoch 10/50\n",
      "469/469 [==============================] - 3s 6ms/step - loss: 0.0234 - accuracy: 0.9919\n",
      "Epoch 11/50\n",
      "469/469 [==============================] - 3s 7ms/step - loss: 0.0201 - accuracy: 0.9931\n",
      "Epoch 12/50\n",
      "469/469 [==============================] - 2s 5ms/step - loss: 0.0220 - accuracy: 0.9925\n",
      "Epoch 13/50\n",
      "469/469 [==============================] - 3s 5ms/step - loss: 0.0176 - accuracy: 0.9942\n",
      "Epoch 14/50\n",
      "469/469 [==============================] - 3s 5ms/step - loss: 0.0203 - accuracy: 0.9932\n",
      "Epoch 15/50\n",
      "469/469 [==============================] - 2s 5ms/step - loss: 0.0194 - accuracy: 0.9939\n",
      "Epoch 16/50\n",
      "469/469 [==============================] - 3s 6ms/step - loss: 0.0152 - accuracy: 0.9950\n",
      "Epoch 17/50\n",
      "469/469 [==============================] - 2s 5ms/step - loss: 0.0141 - accuracy: 0.9954\n",
      "Epoch 18/50\n",
      "469/469 [==============================] - 2s 5ms/step - loss: 0.0142 - accuracy: 0.9953\n",
      "Epoch 19/50\n",
      "469/469 [==============================] - 2s 5ms/step - loss: 0.0150 - accuracy: 0.9951\n",
      "Epoch 20/50\n",
      "469/469 [==============================] - 2s 5ms/step - loss: 0.0127 - accuracy: 0.9960\n",
      "Epoch 21/50\n",
      "469/469 [==============================] - 2s 5ms/step - loss: 0.0164 - accuracy: 0.9951\n",
      "Epoch 22/50\n",
      "469/469 [==============================] - 2s 5ms/step - loss: 0.0126 - accuracy: 0.9956\n",
      "Epoch 23/50\n",
      "469/469 [==============================] - 2s 5ms/step - loss: 0.0166 - accuracy: 0.9946\n",
      "Epoch 24/50\n",
      "469/469 [==============================] - 2s 5ms/step - loss: 0.0135 - accuracy: 0.9957\n",
      "Epoch 25/50\n",
      "469/469 [==============================] - 2s 5ms/step - loss: 0.0114 - accuracy: 0.9964\n",
      "Epoch 26/50\n",
      "469/469 [==============================] - 3s 5ms/step - loss: 0.0110 - accuracy: 0.9962\n",
      "Epoch 27/50\n",
      "469/469 [==============================] - 2s 5ms/step - loss: 0.0111 - accuracy: 0.9964\n",
      "Epoch 28/50\n",
      "469/469 [==============================] - 2s 5ms/step - loss: 0.0094 - accuracy: 0.9969\n",
      "Epoch 29/50\n",
      "469/469 [==============================] - 3s 6ms/step - loss: 0.0149 - accuracy: 0.9951\n",
      "Epoch 30/50\n",
      "469/469 [==============================] - 3s 6ms/step - loss: 0.0112 - accuracy: 0.9963\n",
      "Epoch 31/50\n",
      "469/469 [==============================] - 3s 6ms/step - loss: 0.0137 - accuracy: 0.9957\n",
      "Epoch 32/50\n",
      "469/469 [==============================] - 3s 6ms/step - loss: 0.0113 - accuracy: 0.9965\n",
      "Epoch 33/50\n",
      "469/469 [==============================] - 3s 6ms/step - loss: 0.0105 - accuracy: 0.9967\n",
      "Epoch 34/50\n",
      "469/469 [==============================] - 2s 5ms/step - loss: 0.0118 - accuracy: 0.9962\n",
      "Epoch 35/50\n",
      "469/469 [==============================] - 2s 5ms/step - loss: 0.0100 - accuracy: 0.9967\n",
      "Epoch 36/50\n",
      "469/469 [==============================] - 3s 6ms/step - loss: 0.0115 - accuracy: 0.9965\n",
      "Epoch 37/50\n",
      "469/469 [==============================] - 3s 6ms/step - loss: 0.0116 - accuracy: 0.9963\n",
      "Epoch 38/50\n",
      "469/469 [==============================] - 3s 6ms/step - loss: 0.0077 - accuracy: 0.9973\n",
      "Epoch 39/50\n",
      "469/469 [==============================] - 3s 6ms/step - loss: 0.0099 - accuracy: 0.9969\n",
      "Epoch 40/50\n",
      "469/469 [==============================] - 2s 5ms/step - loss: 0.0112 - accuracy: 0.9968\n",
      "Epoch 41/50\n",
      "469/469 [==============================] - 2s 5ms/step - loss: 0.0107 - accuracy: 0.9972\n",
      "Epoch 42/50\n",
      "469/469 [==============================] - 2s 5ms/step - loss: 0.0070 - accuracy: 0.9975\n",
      "Epoch 43/50\n",
      "469/469 [==============================] - 2s 5ms/step - loss: 0.0092 - accuracy: 0.9973\n",
      "Epoch 44/50\n",
      "469/469 [==============================] - 2s 5ms/step - loss: 0.0079 - accuracy: 0.9972\n",
      "Epoch 45/50\n",
      "469/469 [==============================] - 3s 6ms/step - loss: 0.0085 - accuracy: 0.9974\n",
      "Epoch 46/50\n",
      "469/469 [==============================] - 3s 6ms/step - loss: 0.0099 - accuracy: 0.9969\n",
      "Epoch 47/50\n",
      "469/469 [==============================] - 2s 5ms/step - loss: 0.0109 - accuracy: 0.9970\n",
      "Epoch 48/50\n",
      "469/469 [==============================] - 3s 6ms/step - loss: 0.0098 - accuracy: 0.9973\n",
      "Epoch 49/50\n",
      "469/469 [==============================] - 3s 5ms/step - loss: 0.0079 - accuracy: 0.9977\n",
      "Epoch 50/50\n",
      "469/469 [==============================] - 3s 5ms/step - loss: 0.0084 - accuracy: 0.9979\n"
     ]
    }
   ],
   "source": [
    "from tensorflow.python.keras.callbacks import TensorBoard\n",
    "\n",
    "model.compile(\n",
    "    optimizer='adam',\n",
    "    loss='categorical_crossentropy',\n",
    "    metrics=['accuracy']\n",
    ")\n",
    "\n",
    "tsb = TensorBoard(log_dir='./logs')\n",
    "history = model.fit(\n",
    "    X_train,\n",
    "    Y_train,\n",
    "    batch_size=128,\n",
    "    epochs=50,\n",
    "    \n",
    ")"
   ]
  },
  {
   "cell_type": "code",
   "execution_count": 4,
   "metadata": {},
   "outputs": [],
   "source": [
    "## モデル評価"
   ]
  },
  {
   "cell_type": "code",
   "execution_count": 5,
   "metadata": {},
   "outputs": [
    {
     "name": "stdout",
     "output_type": "stream",
     "text": [
      "313/313 [==============================] - 1s 1ms/step - loss: 0.1076 - accuracy: 0.9848\n"
     ]
    }
   ],
   "source": [
    "score = model.evaluate(X_test,Y_test,verbose=1)"
   ]
  },
  {
   "cell_type": "code",
   "execution_count": null,
   "metadata": {},
   "outputs": [],
   "source": []
  }
 ],
 "metadata": {
  "kernelspec": {
   "display_name": "Python 3 (ipykernel)",
   "language": "python",
   "name": "python3"
  },
  "language_info": {
   "codemirror_mode": {
    "name": "ipython",
    "version": 3
   },
   "file_extension": ".py",
   "mimetype": "text/x-python",
   "name": "python",
   "nbconvert_exporter": "python",
   "pygments_lexer": "ipython3",
   "version": "3.9.7"
  }
 },
 "nbformat": 4,
 "nbformat_minor": 4
}
